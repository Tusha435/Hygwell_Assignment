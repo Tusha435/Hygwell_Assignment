{
 "cells": [
  {
   "cell_type": "code",
   "execution_count": 1,
   "id": "fcd8550a-e075-498b-8bfe-eddda6eacc2c",
   "metadata": {},
   "outputs": [],
   "source": [
    "import pandas as pd\n",
    "from scipy import stats\n",
    "import matplotlib.pyplot as plt"
   ]
  },
  {
   "cell_type": "code",
   "execution_count": 2,
   "id": "4c719e11-ebe2-44bd-a366-caaff40fd386",
   "metadata": {},
   "outputs": [],
   "source": [
    "# Load the dataset\n",
    "data = pd.read_csv('traffic.csv')"
   ]
  },
  {
   "cell_type": "code",
   "execution_count": 3,
   "id": "0523d0cb-2479-485e-890c-b39aebbd18ec",
   "metadata": {},
   "outputs": [
    {
     "data": {
      "text/html": [
       "<div>\n",
       "<style scoped>\n",
       "    .dataframe tbody tr th:only-of-type {\n",
       "        vertical-align: middle;\n",
       "    }\n",
       "\n",
       "    .dataframe tbody tr th {\n",
       "        vertical-align: top;\n",
       "    }\n",
       "\n",
       "    .dataframe thead th {\n",
       "        text-align: right;\n",
       "    }\n",
       "</style>\n",
       "<table border=\"1\" class=\"dataframe\">\n",
       "  <thead>\n",
       "    <tr style=\"text-align: right;\">\n",
       "      <th></th>\n",
       "      <th>event</th>\n",
       "      <th>date</th>\n",
       "      <th>country</th>\n",
       "      <th>city</th>\n",
       "      <th>artist</th>\n",
       "      <th>album</th>\n",
       "      <th>track</th>\n",
       "      <th>isrc</th>\n",
       "      <th>linkid</th>\n",
       "    </tr>\n",
       "  </thead>\n",
       "  <tbody>\n",
       "    <tr>\n",
       "      <th>0</th>\n",
       "      <td>click</td>\n",
       "      <td>2021-08-21</td>\n",
       "      <td>Saudi Arabia</td>\n",
       "      <td>Jeddah</td>\n",
       "      <td>Tesher</td>\n",
       "      <td>Jalebi Baby</td>\n",
       "      <td>Jalebi Baby</td>\n",
       "      <td>QZNWQ2070741</td>\n",
       "      <td>2d896d31-97b6-4869-967b-1c5fb9cd4bb8</td>\n",
       "    </tr>\n",
       "    <tr>\n",
       "      <th>1</th>\n",
       "      <td>click</td>\n",
       "      <td>2021-08-21</td>\n",
       "      <td>Saudi Arabia</td>\n",
       "      <td>Jeddah</td>\n",
       "      <td>Tesher</td>\n",
       "      <td>Jalebi Baby</td>\n",
       "      <td>Jalebi Baby</td>\n",
       "      <td>QZNWQ2070741</td>\n",
       "      <td>2d896d31-97b6-4869-967b-1c5fb9cd4bb8</td>\n",
       "    </tr>\n",
       "    <tr>\n",
       "      <th>2</th>\n",
       "      <td>click</td>\n",
       "      <td>2021-08-21</td>\n",
       "      <td>India</td>\n",
       "      <td>Ludhiana</td>\n",
       "      <td>Reyanna Maria</td>\n",
       "      <td>So Pretty</td>\n",
       "      <td>So Pretty</td>\n",
       "      <td>USUM72100871</td>\n",
       "      <td>23199824-9cf5-4b98-942a-34965c3b0cc2</td>\n",
       "    </tr>\n",
       "    <tr>\n",
       "      <th>3</th>\n",
       "      <td>click</td>\n",
       "      <td>2021-08-21</td>\n",
       "      <td>France</td>\n",
       "      <td>Unknown</td>\n",
       "      <td>Simone &amp; Simaria, Sebastian Yatra</td>\n",
       "      <td>No Llores Más</td>\n",
       "      <td>No Llores Más</td>\n",
       "      <td>BRUM72003904</td>\n",
       "      <td>35573248-4e49-47c7-af80-08a960fa74cd</td>\n",
       "    </tr>\n",
       "    <tr>\n",
       "      <th>4</th>\n",
       "      <td>click</td>\n",
       "      <td>2021-08-21</td>\n",
       "      <td>Maldives</td>\n",
       "      <td>Malé</td>\n",
       "      <td>Tesher</td>\n",
       "      <td>Jalebi Baby</td>\n",
       "      <td>Jalebi Baby</td>\n",
       "      <td>QZNWQ2070741</td>\n",
       "      <td>2d896d31-97b6-4869-967b-1c5fb9cd4bb8</td>\n",
       "    </tr>\n",
       "  </tbody>\n",
       "</table>\n",
       "</div>"
      ],
      "text/plain": [
       "   event        date       country      city  \\\n",
       "0  click  2021-08-21  Saudi Arabia    Jeddah   \n",
       "1  click  2021-08-21  Saudi Arabia    Jeddah   \n",
       "2  click  2021-08-21         India  Ludhiana   \n",
       "3  click  2021-08-21        France   Unknown   \n",
       "4  click  2021-08-21      Maldives      Malé   \n",
       "\n",
       "                              artist          album          track  \\\n",
       "0                             Tesher    Jalebi Baby    Jalebi Baby   \n",
       "1                             Tesher    Jalebi Baby    Jalebi Baby   \n",
       "2                      Reyanna Maria      So Pretty      So Pretty   \n",
       "3  Simone & Simaria, Sebastian Yatra  No Llores Más  No Llores Más   \n",
       "4                             Tesher    Jalebi Baby    Jalebi Baby   \n",
       "\n",
       "           isrc                                linkid  \n",
       "0  QZNWQ2070741  2d896d31-97b6-4869-967b-1c5fb9cd4bb8  \n",
       "1  QZNWQ2070741  2d896d31-97b6-4869-967b-1c5fb9cd4bb8  \n",
       "2  USUM72100871  23199824-9cf5-4b98-942a-34965c3b0cc2  \n",
       "3  BRUM72003904  35573248-4e49-47c7-af80-08a960fa74cd  \n",
       "4  QZNWQ2070741  2d896d31-97b6-4869-967b-1c5fb9cd4bb8  "
      ]
     },
     "execution_count": 3,
     "metadata": {},
     "output_type": "execute_result"
    }
   ],
   "source": [
    "data.head()"
   ]
  },
  {
   "cell_type": "code",
   "execution_count": 4,
   "id": "387ae99b",
   "metadata": {},
   "outputs": [
    {
     "name": "stdout",
     "output_type": "stream",
     "text": [
      "<class 'pandas.core.frame.DataFrame'>\n",
      "RangeIndex: 226278 entries, 0 to 226277\n",
      "Data columns (total 9 columns):\n",
      " #   Column   Non-Null Count   Dtype \n",
      "---  ------   --------------   ----- \n",
      " 0   event    226278 non-null  object\n",
      " 1   date     226278 non-null  object\n",
      " 2   country  226267 non-null  object\n",
      " 3   city     226267 non-null  object\n",
      " 4   artist   226241 non-null  object\n",
      " 5   album    226273 non-null  object\n",
      " 6   track    226273 non-null  object\n",
      " 7   isrc     219157 non-null  object\n",
      " 8   linkid   226278 non-null  object\n",
      "dtypes: object(9)\n",
      "memory usage: 15.5+ MB\n"
     ]
    }
   ],
   "source": [
    "data.info()"
   ]
  },
  {
   "cell_type": "code",
   "execution_count": 5,
   "id": "f52b3a6a",
   "metadata": {},
   "outputs": [
    {
     "data": {
      "text/html": [
       "<div>\n",
       "<style scoped>\n",
       "    .dataframe tbody tr th:only-of-type {\n",
       "        vertical-align: middle;\n",
       "    }\n",
       "\n",
       "    .dataframe tbody tr th {\n",
       "        vertical-align: top;\n",
       "    }\n",
       "\n",
       "    .dataframe thead th {\n",
       "        text-align: right;\n",
       "    }\n",
       "</style>\n",
       "<table border=\"1\" class=\"dataframe\">\n",
       "  <thead>\n",
       "    <tr style=\"text-align: right;\">\n",
       "      <th></th>\n",
       "      <th>event</th>\n",
       "      <th>date</th>\n",
       "      <th>country</th>\n",
       "      <th>city</th>\n",
       "      <th>artist</th>\n",
       "      <th>album</th>\n",
       "      <th>track</th>\n",
       "      <th>isrc</th>\n",
       "      <th>linkid</th>\n",
       "    </tr>\n",
       "  </thead>\n",
       "  <tbody>\n",
       "    <tr>\n",
       "      <th>count</th>\n",
       "      <td>226278</td>\n",
       "      <td>226278</td>\n",
       "      <td>226267</td>\n",
       "      <td>226267</td>\n",
       "      <td>226241</td>\n",
       "      <td>226273</td>\n",
       "      <td>226273</td>\n",
       "      <td>219157</td>\n",
       "      <td>226278</td>\n",
       "    </tr>\n",
       "    <tr>\n",
       "      <th>unique</th>\n",
       "      <td>3</td>\n",
       "      <td>7</td>\n",
       "      <td>211</td>\n",
       "      <td>11993</td>\n",
       "      <td>2419</td>\n",
       "      <td>3254</td>\n",
       "      <td>3562</td>\n",
       "      <td>709</td>\n",
       "      <td>3839</td>\n",
       "    </tr>\n",
       "    <tr>\n",
       "      <th>top</th>\n",
       "      <td>pageview</td>\n",
       "      <td>2021-08-19</td>\n",
       "      <td>Saudi Arabia</td>\n",
       "      <td>Jeddah</td>\n",
       "      <td>Tesher</td>\n",
       "      <td>Jalebi Baby</td>\n",
       "      <td>Jalebi Baby</td>\n",
       "      <td>QZNWQ2070741</td>\n",
       "      <td>2d896d31-97b6-4869-967b-1c5fb9cd4bb8</td>\n",
       "    </tr>\n",
       "    <tr>\n",
       "      <th>freq</th>\n",
       "      <td>142015</td>\n",
       "      <td>35361</td>\n",
       "      <td>47334</td>\n",
       "      <td>22791</td>\n",
       "      <td>40841</td>\n",
       "      <td>40841</td>\n",
       "      <td>40841</td>\n",
       "      <td>40841</td>\n",
       "      <td>40841</td>\n",
       "    </tr>\n",
       "  </tbody>\n",
       "</table>\n",
       "</div>"
      ],
      "text/plain": [
       "           event        date       country    city  artist        album  \\\n",
       "count     226278      226278        226267  226267  226241       226273   \n",
       "unique         3           7           211   11993    2419         3254   \n",
       "top     pageview  2021-08-19  Saudi Arabia  Jeddah  Tesher  Jalebi Baby   \n",
       "freq      142015       35361         47334   22791   40841        40841   \n",
       "\n",
       "              track          isrc                                linkid  \n",
       "count        226273        219157                                226278  \n",
       "unique         3562           709                                  3839  \n",
       "top     Jalebi Baby  QZNWQ2070741  2d896d31-97b6-4869-967b-1c5fb9cd4bb8  \n",
       "freq          40841         40841                                 40841  "
      ]
     },
     "execution_count": 5,
     "metadata": {},
     "output_type": "execute_result"
    }
   ],
   "source": [
    "data.describe(include='all')"
   ]
  },
  {
   "cell_type": "code",
   "execution_count": 6,
   "id": "a0fcb66b",
   "metadata": {},
   "outputs": [],
   "source": [
    "# Convert the 'date' column to datetime format\n",
    "data['date'] = pd.to_datetime(data['date'])\n",
    "\n",
    "# Step 1: Total and Daily Pageview Events\n",
    "\n",
    "# Total number of 'pageview' events\n",
    "total_pageviews = data[data['event'] == 'pageview'].shape[0]\n",
    "\n",
    "# Filter data for 'click' events\n",
    "total_clicks = data[data['event'] == 'click'].shape[0]\n",
    "\n",
    "# Calculate daily 'pageview' events\n",
    "daily_pageviews = data[data['event'] == 'pageview'].groupby(data['date'].dt.date).size()\n",
    "average_daily_pageviews = daily_pageviews.mean()"
   ]
  },
  {
   "cell_type": "code",
   "execution_count": 7,
   "id": "1c962e13-d012-4d8d-8916-b3253e498025",
   "metadata": {},
   "outputs": [
    {
     "name": "stdout",
     "output_type": "stream",
     "text": [
      "Total pageview events: 142015\n",
      "Total clicks: 55732\n",
      "Average pageviews per day: 20287.85714285714\n"
     ]
    }
   ],
   "source": [
    "print(\"Total pageview events:\", total_pageviews)\n",
    "print(\"Total clicks:\", total_clicks)\n",
    "print(\"Average pageviews per day:\", average_daily_pageviews)"
   ]
  },
  {
   "cell_type": "code",
   "execution_count": 8,
   "id": "39dd2b8d",
   "metadata": {},
   "outputs": [],
   "source": [
    "# Step 2: Analysis of Other Events\n",
    "event_counts = data['event'].value_counts()\n",
    "event_distribution = (event_counts / event_counts.sum()) * 100"
   ]
  },
  {
   "cell_type": "code",
   "execution_count": 9,
   "id": "c22652a0-d759-4a6c-9af6-d8bac036f8a1",
   "metadata": {},
   "outputs": [
    {
     "name": "stdout",
     "output_type": "stream",
     "text": [
      "\n",
      "Event counts:\n",
      " event\n",
      "pageview    142015\n",
      "click        55732\n",
      "preview      28531\n",
      "Name: count, dtype: int64\n",
      "\n",
      "Event distribution (%):\n",
      " event\n",
      "pageview    62.761294\n",
      "click       24.629880\n",
      "preview     12.608826\n",
      "Name: count, dtype: float64\n"
     ]
    }
   ],
   "source": [
    "print(\"\\nEvent counts:\\n\", event_counts)\n",
    "print(\"\\nEvent distribution (%):\\n\", event_distribution)"
   ]
  },
  {
   "cell_type": "code",
   "execution_count": 10,
   "id": "c0c4f027",
   "metadata": {},
   "outputs": [],
   "source": [
    "# Step 3: Geographical Distribution\n",
    "country_pageviews = data[data['event'] == 'pageview']['country'].value_counts()"
   ]
  },
  {
   "cell_type": "code",
   "execution_count": 11,
   "id": "073735fc-8eb5-483d-8bf2-784897a62fbf",
   "metadata": {},
   "outputs": [
    {
     "name": "stdout",
     "output_type": "stream",
     "text": [
      "\n",
      "Top countries contributing to pageviews:\n",
      " country\n",
      "Saudi Arabia            28873\n",
      "India                   27286\n",
      "United States           20839\n",
      "France                   9674\n",
      "Iraq                     4897\n",
      "United Kingdom           3845\n",
      "Pakistan                 3212\n",
      "Germany                  3141\n",
      "Turkey                   2462\n",
      "United Arab Emirates     2335\n",
      "Name: count, dtype: int64\n"
     ]
    }
   ],
   "source": [
    "print(\"\\nTop countries contributing to pageviews:\\n\", country_pageviews.head(10))"
   ]
  },
  {
   "cell_type": "code",
   "execution_count": 12,
   "id": "299639df",
   "metadata": {},
   "outputs": [
    {
     "name": "stderr",
     "output_type": "stream",
     "text": [
      "C:\\Users\\tusha\\AppData\\Local\\Temp\\ipykernel_8552\\1547295066.py:7: DeprecationWarning: DataFrameGroupBy.apply operated on the grouping columns. This behavior is deprecated, and in a future version of pandas the grouping columns will be excluded from the operation. Either pass `include_groups=False` to exclude the groupings or explicitly select the grouping columns after groupby to silence this warning.\n",
      "  ctr_per_link = data.groupby('linkid').apply(lambda x: x[x['event'] == 'click'].shape[0] / x[x['event'] == 'pageview'].shape[0] if x[x['event'] == 'pageview'].shape[0] > 0 else 0)\n"
     ]
    }
   ],
   "source": [
    "# Step 4: Click-Through Rate (CTR) Analysis\n",
    "\n",
    "# Calculate the overall CTR\n",
    "overall_ctr = total_clicks / total_pageviews if total_pageviews > 0 else 0\n",
    "\n",
    "# Calculate CTR variation across different links\n",
    "ctr_per_link = data.groupby('linkid').apply(lambda x: x[x['event'] == 'click'].shape[0] / x[x['event'] == 'pageview'].shape[0] if x[x['event'] == 'pageview'].shape[0] > 0 else 0)"
   ]
  },
  {
   "cell_type": "code",
   "execution_count": 13,
   "id": "009befa7-46dc-4ec5-9a29-7f2a859461cb",
   "metadata": {},
   "outputs": [
    {
     "name": "stdout",
     "output_type": "stream",
     "text": [
      "\n",
      "Overall CTR: 0.3924374185825441\n"
     ]
    }
   ],
   "source": [
    "print(\"\\nOverall CTR:\", overall_ctr)"
   ]
  },
  {
   "cell_type": "code",
   "execution_count": 14,
   "id": "99ca6017",
   "metadata": {},
   "outputs": [
    {
     "name": "stdout",
     "output_type": "stream",
     "text": [
      "Pearson Correlation Coefficient: 0.9886810823208105\n",
      "Pearson Correlation p-value: 0.0\n",
      "Chi-square Statistic: 109.07209677403016\n",
      "Chi-square p-value: 1.5648907281614155e-25\n"
     ]
    }
   ],
   "source": [
    "# Step 5: Correlation Analysis\n",
    "\n",
    "# Step 1: Filter relevant data for clicks and previews\n",
    "# Calculate the total clicks and previews for each link\n",
    "link_events = data[data['event'].isin(['click', 'preview'])]\n",
    "clicks_per_link = link_events[link_events['event'] == 'click'].groupby('linkid').size()\n",
    "previews_per_link = link_events[link_events['event'] == 'preview'].groupby('linkid').size()\n",
    "\n",
    "# Merge the clicks and previews into a single DataFrame\n",
    "correlation_data = pd.DataFrame({'clicks': clicks_per_link, 'previews': previews_per_link}).fillna(0)\n",
    "\n",
    "# Step 2: Perform Pearson Correlation (Linear Relationship)\n",
    "pearson_corr, pearson_p_value = stats.pearsonr(correlation_data['clicks'], correlation_data['previews'])\n",
    "\n",
    "# Step 3: Perform Chi-square Test (Categorical Relationship)\n",
    "# Convert the data into a contingency table for Chi-square test\n",
    "contingency_table = pd.crosstab(correlation_data['clicks'] > 0, correlation_data['previews'] > 0)\n",
    "chi2, chi2_p_value, dof, expected = stats.chi2_contingency(contingency_table)\n",
    "\n",
    "# Display the results\n",
    "print(\"Pearson Correlation Coefficient:\", pearson_corr)\n",
    "print(\"Pearson Correlation p-value:\", pearson_p_value)\n",
    "print(\"Chi-square Statistic:\", chi2)\n",
    "print(\"Chi-square p-value:\", chi2_p_value)"
   ]
  },
  {
   "cell_type": "markdown",
   "id": "f8d0fcbc",
   "metadata": {},
   "source": [
    "## Conclusion\n",
    "1. There is a very strong and statistically significant linear correlation between the number of clicks and previews on a link.\n",
    "2. The categorical relationship between clicks and previews is also statistically significant, indicating a strong association."
   ]
  }
 ],
 "metadata": {
  "kernelspec": {
   "display_name": "Python 3 (ipykernel)",
   "language": "python",
   "name": "python3"
  },
  "language_info": {
   "codemirror_mode": {
    "name": "ipython",
    "version": 3
   },
   "file_extension": ".py",
   "mimetype": "text/x-python",
   "name": "python",
   "nbconvert_exporter": "python",
   "pygments_lexer": "ipython3",
   "version": "3.12.3"
  }
 },
 "nbformat": 4,
 "nbformat_minor": 5
}
